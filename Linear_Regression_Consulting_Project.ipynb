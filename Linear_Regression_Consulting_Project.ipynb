{
 "cells": [
  {
   "cell_type": "markdown",
   "metadata": {
    "slideshow": {
     "slide_type": "slide"
    }
   },
   "source": [
    "# Linear Regression Consulting Project"
   ]
  },
  {
   "cell_type": "markdown",
   "metadata": {
    "slideshow": {
     "slide_type": "slide"
    }
   },
   "source": [
    "Congratulations! You've been contracted by Hyundai Heavy Industries to help them build a predictive model for some ships. [Hyundai Heavy Industries](http://www.hyundai.eu/en) is one of the world's largest ship manufacturing companies and builds cruise liners.\n",
    "\n",
    "You've been flown to their headquarters in Ulsan, South Korea to help them give accurate estimates of how many crew members a ship will require.\n",
    "\n",
    "They are currently building new ships for some customers and want you to create a model and use it to predict how many crew members the ships will need.\n",
    "\n",
    "Here is what the data looks like so far:\n",
    "\n",
    "    Description: Measurements of ship size, capacity, crew, and age for 158 cruise\n",
    "    ships.\n",
    "\n",
    "\n",
    "    Variables/Columns\n",
    "    Ship Name     1-20\n",
    "    Cruise Line   21-40\n",
    "    Age (as of 2013)   46-48\n",
    "    Tonnage (1000s of tons)   50-56\n",
    "    passengers (100s)   58-64\n",
    "    Length (100s of feet)  66-72\n",
    "    Cabins  (100s)   74-80\n",
    "    Passenger Density   82-88\n",
    "    Crew  (100s)   90-96\n",
    "    \n",
    "It is saved in a csv file for you called \"cruise_ship_info.csv\". Your job is to create a regression model that will help predict how many crew members will be needed for future ships. The client also mentioned that they have found that particular cruise lines will differ in acceptable crew counts, so it is most likely an important feature to include in your analysis! \n",
    "\n",
    "Once you've created the model and tested it for a quick check on how well you can expect it to perform, make sure you take a look at why it performs so well!"
   ]
  },
  {
   "cell_type": "code",
   "execution_count": 1,
   "metadata": {},
   "outputs": [],
   "source": [
    "import findspark\n",
    "#findspark.init()\n",
    "from pyspark.sql import SparkSession\n",
    "spark=SparkSession.builder.appName('Hyundai_crew_predictor').getOrCreate()"
   ]
  },
  {
   "cell_type": "code",
   "execution_count": 66,
   "metadata": {},
   "outputs": [],
   "source": [
    "cruise_ship_data=spark.read.csv(\"cruise_ship_info.csv\",inferSchema=True,header=True)"
   ]
  },
  {
   "cell_type": "code",
   "execution_count": 67,
   "metadata": {},
   "outputs": [
    {
     "data": {
      "text/plain": [
       "['Ship_name',\n",
       " 'Cruise_line',\n",
       " 'Age',\n",
       " 'Tonnage',\n",
       " 'passengers',\n",
       " 'length',\n",
       " 'cabins',\n",
       " 'passenger_density',\n",
       " 'crew']"
      ]
     },
     "execution_count": 67,
     "metadata": {},
     "output_type": "execute_result"
    }
   ],
   "source": [
    "cruise_ship_data.columns"
   ]
  },
  {
   "cell_type": "code",
   "execution_count": 68,
   "metadata": {},
   "outputs": [
    {
     "data": {
      "text/plain": [
       "158"
      ]
     },
     "execution_count": 68,
     "metadata": {},
     "output_type": "execute_result"
    }
   ],
   "source": [
    "cruise_ship_data.count()"
   ]
  },
  {
   "cell_type": "code",
   "execution_count": 69,
   "metadata": {},
   "outputs": [],
   "source": [
    "#checking for missing values\n",
    "cruise_ship_data=cruise_ship_data.dropna()"
   ]
  },
  {
   "cell_type": "code",
   "execution_count": 70,
   "metadata": {},
   "outputs": [
    {
     "data": {
      "text/plain": [
       "158"
      ]
     },
     "execution_count": 70,
     "metadata": {},
     "output_type": "execute_result"
    }
   ],
   "source": [
    "cruise_ship_data.count()"
   ]
  },
  {
   "cell_type": "code",
   "execution_count": 71,
   "metadata": {},
   "outputs": [
    {
     "data": {
      "text/plain": [
       "0.895856627101658"
      ]
     },
     "execution_count": 71,
     "metadata": {},
     "output_type": "execute_result"
    }
   ],
   "source": [
    "#checking data correlation\n",
    "cruise_ship_data.corr('length','crew')"
   ]
  },
  {
   "cell_type": "code",
   "execution_count": 95,
   "metadata": {},
   "outputs": [
    {
     "data": {
      "text/plain": [
       "-0.5306565039638852"
      ]
     },
     "execution_count": 95,
     "metadata": {},
     "output_type": "execute_result"
    }
   ],
   "source": [
    "cruise_ship_data.corr('Age','crew')"
   ]
  },
  {
   "cell_type": "code",
   "execution_count": 94,
   "metadata": {},
   "outputs": [
    {
     "data": {
      "text/plain": [
       "0.9275688115449388"
      ]
     },
     "execution_count": 94,
     "metadata": {},
     "output_type": "execute_result"
    }
   ],
   "source": [
    "cruise_ship_data.corr('Tonnage','crew')"
   ]
  },
  {
   "cell_type": "code",
   "execution_count": 112,
   "metadata": {},
   "outputs": [
    {
     "name": "stdout",
     "output_type": "stream",
     "text": [
      "+------------------+----------+----+\n",
      "|           Tonnage|passengers|crew|\n",
      "+------------------+----------+----+\n",
      "|30.276999999999997|      6.94|3.55|\n",
      "|30.276999999999997|      6.94|3.55|\n",
      "|            47.262|     14.86| 6.7|\n",
      "|             110.0|     29.74|19.1|\n",
      "|           101.353|     26.42|10.0|\n",
      "|            70.367|     20.52| 9.2|\n",
      "|            70.367|     20.52| 9.2|\n",
      "|            70.367|     20.56| 9.2|\n",
      "|            70.367|     20.52| 9.2|\n",
      "|110.23899999999999|      37.0|11.5|\n",
      "|             110.0|     29.74|11.6|\n",
      "|            46.052|     14.52| 6.6|\n",
      "|            70.367|     20.52| 9.2|\n",
      "|            70.367|     20.52| 9.2|\n",
      "|              86.0|     21.24| 9.3|\n",
      "|             110.0|     29.74|11.6|\n",
      "|              88.5|     21.24|10.3|\n",
      "|            70.367|     20.52| 9.2|\n",
      "|              88.5|     21.24| 9.3|\n",
      "|            70.367|     20.52| 9.2|\n",
      "+------------------+----------+----+\n",
      "only showing top 20 rows\n",
      "\n"
     ]
    }
   ],
   "source": [
    "cruise_ship_data.select('Tonnage','passengers','crew').show()"
   ]
  },
  {
   "cell_type": "code",
   "execution_count": 72,
   "metadata": {},
   "outputs": [],
   "source": [
    "#Encoding for including cruise_line which is mentioned as a significant feature\n",
    "from pyspark.sql.functions import col, split\n",
    "cruise_ship_data = cruise_ship_data.withColumn(\"Cruise_line_Array\", split(col(\"Cruise_line\"),\" \"))"
   ]
  },
  {
   "cell_type": "code",
   "execution_count": 73,
   "metadata": {},
   "outputs": [],
   "source": [
    "from pyspark.ml.feature import CountVectorizer\n",
    "cnt_vectorizer = CountVectorizer(inputCol='Cruise_line_Array',outputCol='Encoded_Cruiseline') \n",
    "vect_model=cnt_vectorizer.fit(cruise_ship_data)\n",
    "cruise_ship_data=vect_model.transform(cruise_ship_data)\n"
   ]
  },
  {
   "cell_type": "code",
   "execution_count": 74,
   "metadata": {},
   "outputs": [
    {
     "name": "stdout",
     "output_type": "stream",
     "text": [
      "+------------------+\n",
      "|Encoded_Cruiseline|\n",
      "+------------------+\n",
      "|   (20,[17],[1.0])|\n",
      "|   (20,[17],[1.0])|\n",
      "|    (20,[1],[1.0])|\n",
      "|    (20,[1],[1.0])|\n",
      "|    (20,[1],[1.0])|\n",
      "|    (20,[1],[1.0])|\n",
      "|    (20,[1],[1.0])|\n",
      "|    (20,[1],[1.0])|\n",
      "|    (20,[1],[1.0])|\n",
      "|    (20,[1],[1.0])|\n",
      "|    (20,[1],[1.0])|\n",
      "|    (20,[1],[1.0])|\n",
      "|    (20,[1],[1.0])|\n",
      "|    (20,[1],[1.0])|\n",
      "|    (20,[1],[1.0])|\n",
      "|    (20,[1],[1.0])|\n",
      "|    (20,[1],[1.0])|\n",
      "|    (20,[1],[1.0])|\n",
      "|    (20,[1],[1.0])|\n",
      "|    (20,[1],[1.0])|\n",
      "+------------------+\n",
      "only showing top 20 rows\n",
      "\n"
     ]
    }
   ],
   "source": [
    "cruise_ship_data.select('Encoded_Cruiseline').show()"
   ]
  },
  {
   "cell_type": "code",
   "execution_count": 75,
   "metadata": {},
   "outputs": [],
   "source": [
    "from pyspark.ml.linalg import Vectors\n",
    "from pyspark.ml.feature import VectorAssembler"
   ]
  },
  {
   "cell_type": "code",
   "execution_count": 76,
   "metadata": {},
   "outputs": [],
   "source": [
    "assembler=VectorAssembler(inputCols=['Encoded_Cruiseline',\n",
    " 'Tonnage',\n",
    " 'passengers',\n",
    " 'length',\n",
    " 'cabins'],outputCol=\"features\"\n",
    "                         )"
   ]
  },
  {
   "cell_type": "code",
   "execution_count": 77,
   "metadata": {},
   "outputs": [],
   "source": [
    "feature_out=assembler.transform(cruise_ship_data)"
   ]
  },
  {
   "cell_type": "code",
   "execution_count": 78,
   "metadata": {},
   "outputs": [],
   "source": [
    "final_data = feature_out.select(\"features\",'crew')"
   ]
  },
  {
   "cell_type": "code",
   "execution_count": 79,
   "metadata": {},
   "outputs": [],
   "source": [
    "train_data,test_data = final_data.randomSplit([0.7,0.3])"
   ]
  },
  {
   "cell_type": "code",
   "execution_count": 80,
   "metadata": {},
   "outputs": [
    {
     "name": "stdout",
     "output_type": "stream",
     "text": [
      "+-------+-----------------+\n",
      "|summary|             crew|\n",
      "+-------+-----------------+\n",
      "|  count|              122|\n",
      "|   mean|7.892540983606561|\n",
      "| stddev|3.530058544097073|\n",
      "|    min|             0.59|\n",
      "|    max|             21.0|\n",
      "+-------+-----------------+\n",
      "\n"
     ]
    }
   ],
   "source": [
    "train_data.describe().show()"
   ]
  },
  {
   "cell_type": "code",
   "execution_count": 81,
   "metadata": {},
   "outputs": [
    {
     "name": "stdout",
     "output_type": "stream",
     "text": [
      "+-------+------------------+\n",
      "|summary|              crew|\n",
      "+-------+------------------+\n",
      "|  count|                36|\n",
      "|   mean|7.4608333333333325|\n",
      "| stddev|3.4396182304768312|\n",
      "|    min|              0.88|\n",
      "|    max|              13.6|\n",
      "+-------+------------------+\n",
      "\n"
     ]
    }
   ],
   "source": [
    "test_data.describe().show()"
   ]
  },
  {
   "cell_type": "code",
   "execution_count": 82,
   "metadata": {},
   "outputs": [],
   "source": [
    "from pyspark.ml.regression import LinearRegression"
   ]
  },
  {
   "cell_type": "code",
   "execution_count": 83,
   "metadata": {},
   "outputs": [],
   "source": [
    "regression_model=LinearRegression(labelCol='crew')"
   ]
  },
  {
   "cell_type": "code",
   "execution_count": 84,
   "metadata": {},
   "outputs": [],
   "source": [
    "linmodel=regression_model.fit(train_data,)"
   ]
  },
  {
   "cell_type": "code",
   "execution_count": 85,
   "metadata": {},
   "outputs": [
    {
     "name": "stdout",
     "output_type": "stream",
     "text": [
      "Coefficients: [-1.1470109008662708,0.45433707902029496,-0.047237202625684684,-0.6486263433730788,0.4444463850894083,-0.32072708477715445,0.6718056705287264,-0.1316045282323109,-0.09683840273159539,1.4666534753865976,0.7605599685921137,0.24784707574713377,-0.2664272969794378,0.6024541610013375,0.5295325568108677,-0.05971590884569131,0.553959712451918,0.08131522709565424,0.06684798617224645,-0.03398774131588001,0.020302623997969567,-0.08071160998468214,0.5515813041855745,0.6093084610782367] Intercept: -2.0253171832391192\n"
     ]
    }
   ],
   "source": [
    "print(\"Coefficients: {} Intercept: {}\".format(linmodel.coefficients,linmodel.intercept))"
   ]
  },
  {
   "cell_type": "code",
   "execution_count": 86,
   "metadata": {},
   "outputs": [],
   "source": [
    "test_results = linmodel.evaluate(test_data)"
   ]
  },
  {
   "cell_type": "code",
   "execution_count": 87,
   "metadata": {},
   "outputs": [
    {
     "name": "stdout",
     "output_type": "stream",
     "text": [
      "+--------------------+\n",
      "|           residuals|\n",
      "+--------------------+\n",
      "| 0.09256844654886365|\n",
      "| 0.08038227732729908|\n",
      "|   0.337911066258501|\n",
      "|-0.00952555319504...|\n",
      "|  0.0675811444547012|\n",
      "| -1.6033798005630242|\n",
      "| 0.37463524364360756|\n",
      "| -0.4740608634096164|\n",
      "|-0.04627708180254153|\n",
      "|  0.7875101408068321|\n",
      "|  0.9245939976638056|\n",
      "| 0.09840002192196273|\n",
      "|-0.35059633511981936|\n",
      "|  0.6834827256037697|\n",
      "|  0.6271595699873442|\n",
      "|  0.6610220750448468|\n",
      "| 0.05492729565891796|\n",
      "| 0.09878084487454508|\n",
      "|  0.5320343897519018|\n",
      "| -0.1989330910318312|\n",
      "+--------------------+\n",
      "only showing top 20 rows\n",
      "\n"
     ]
    }
   ],
   "source": [
    "test_results.residuals.show()"
   ]
  },
  {
   "cell_type": "code",
   "execution_count": 88,
   "metadata": {},
   "outputs": [],
   "source": [
    "unlabeled_data = test_data.select('features')"
   ]
  },
  {
   "cell_type": "code",
   "execution_count": 89,
   "metadata": {},
   "outputs": [],
   "source": [
    "predictions = linmodel.transform(unlabeled_data)"
   ]
  },
  {
   "cell_type": "code",
   "execution_count": 90,
   "metadata": {},
   "outputs": [
    {
     "name": "stdout",
     "output_type": "stream",
     "text": [
      "+--------------------+------------------+\n",
      "|            features|        prediction|\n",
      "+--------------------+------------------+\n",
      "|(24,[0,20,21,22,2...| 8.127431553451137|\n",
      "|(24,[0,20,21,22,2...| 8.139617722672702|\n",
      "|(24,[0,20,21,22,2...| 8.342088933741499|\n",
      "|(24,[0,20,21,22,2...| 13.60952555319504|\n",
      "|(24,[1,20,21,22,2...| 9.132418855545298|\n",
      "|(24,[1,20,21,22,2...|10.903379800563025|\n",
      "|(24,[2,20,21,22,2...|3.3553647563563924|\n",
      "|(24,[2,20,21,22,2...| 5.674060863409617|\n",
      "|(24,[2,20,21,22,2...| 9.046277081802542|\n",
      "|(24,[2,20,21,22,2...|11.212489859193168|\n",
      "|(24,[2,20,21,22,2...|11.455406002336195|\n",
      "|(24,[2,20,21,22,2...|11.901599978078037|\n",
      "|(24,[2,20,21,22,2...| 11.35059633511982|\n",
      "|(24,[3,20,21,22,2...|  4.61651727439623|\n",
      "|(24,[3,20,21,22,2...| 5.252840430012656|\n",
      "|(24,[3,20,21,22,2...| 5.778977924955154|\n",
      "|(24,[3,20,21,22,2...| 5.945072704341082|\n",
      "|(24,[4,20,21,22,2...|10.991219155125455|\n",
      "|(24,[5,20,21,22,2...|3.3179656102480983|\n",
      "|(24,[5,20,21,22,2...|  9.39893309103183|\n",
      "+--------------------+------------------+\n",
      "only showing top 20 rows\n",
      "\n"
     ]
    }
   ],
   "source": [
    "predictions.show()"
   ]
  },
  {
   "cell_type": "code",
   "execution_count": 108,
   "metadata": {},
   "outputs": [
    {
     "data": {
      "text/plain": [
       "SparseVector(24, {0: 1.0, 20: 158.0, 21: 43.7, 22: 11.12, 23: 18.0})"
      ]
     },
     "execution_count": 108,
     "metadata": {},
     "output_type": "execute_result"
    }
   ],
   "source": [
    "\n",
    "predictions.select(\"features\").rdd.flatMap(list).collect()[3]\n"
   ]
  },
  {
   "cell_type": "code",
   "execution_count": 91,
   "metadata": {},
   "outputs": [
    {
     "name": "stdout",
     "output_type": "stream",
     "text": [
      "RMSE: 0.5892819964818984\n",
      "MSE: 0.34725327137769213\n"
     ]
    }
   ],
   "source": [
    "#testing model performance using RMSE\n",
    "print(\"RMSE: {}\".format(test_results.rootMeanSquaredError))\n",
    "print(\"MSE: {}\".format(test_results.meanSquaredError))\n",
    "#the model performs well indicated by the MSE value"
   ]
  },
  {
   "cell_type": "code",
   "execution_count": 114,
   "metadata": {},
   "outputs": [
    {
     "name": "stdout",
     "output_type": "stream",
     "text": [
      "+------------------+----------+------+------+----+\n",
      "|           Tonnage|passengers|length|cabins|crew|\n",
      "+------------------+----------+------+------+----+\n",
      "|30.276999999999997|      6.94|  5.94|  3.55|3.55|\n",
      "|30.276999999999997|      6.94|  5.94|  3.55|3.55|\n",
      "|            47.262|     14.86|  7.22|  7.43| 6.7|\n",
      "|             110.0|     29.74|  9.53| 14.88|19.1|\n",
      "|           101.353|     26.42|  8.92| 13.21|10.0|\n",
      "|            70.367|     20.52|  8.55|  10.2| 9.2|\n",
      "|            70.367|     20.52|  8.55|  10.2| 9.2|\n",
      "|            70.367|     20.56|  8.55| 10.22| 9.2|\n",
      "|            70.367|     20.52|  8.55|  10.2| 9.2|\n",
      "|110.23899999999999|      37.0|  9.51| 14.87|11.5|\n",
      "|             110.0|     29.74|  9.51| 14.87|11.6|\n",
      "|            46.052|     14.52|  7.27|  7.26| 6.6|\n",
      "|            70.367|     20.52|  8.55|  10.2| 9.2|\n",
      "|            70.367|     20.52|  8.55|  10.2| 9.2|\n",
      "|              86.0|     21.24|  9.63| 10.62| 9.3|\n",
      "|             110.0|     29.74|  9.51| 14.87|11.6|\n",
      "|              88.5|     21.24|  9.63| 10.62|10.3|\n",
      "|            70.367|     20.52|  8.55|  10.2| 9.2|\n",
      "|              88.5|     21.24|  9.63| 11.62| 9.3|\n",
      "|            70.367|     20.52|  8.55|  10.2| 9.2|\n",
      "+------------------+----------+------+------+----+\n",
      "only showing top 20 rows\n",
      "\n"
     ]
    }
   ],
   "source": [
    "cruise_ship_data.select(\n",
    " 'Tonnage',\n",
    " 'passengers',\n",
    " 'length',\n",
    " 'cabins','crew').show()"
   ]
  },
  {
   "cell_type": "code",
   "execution_count": null,
   "metadata": {},
   "outputs": [],
   "source": [
    "#Why the model may perform well?\n",
    "#There exists a linear relation between the features and the dependent variable.The\n",
    "#correlation between the features and the dependent variable is high.Though correlation\n",
    "#may not mean causation always. In this particular case we can get a sense of why a higher\n",
    "# tonnage can reflect on higher number of crew memebers need in the ship.Similarly works for the other\n",
    "#features"
   ]
  },
  {
   "cell_type": "code",
   "execution_count": null,
   "metadata": {},
   "outputs": [],
   "source": []
  }
 ],
 "metadata": {
  "anaconda-cloud": {},
  "kernelspec": {
   "display_name": "Python 3",
   "language": "python",
   "name": "python3"
  },
  "language_info": {
   "codemirror_mode": {
    "name": "ipython",
    "version": 3
   },
   "file_extension": ".py",
   "mimetype": "text/x-python",
   "name": "python",
   "nbconvert_exporter": "python",
   "pygments_lexer": "ipython3",
   "version": "3.7.7"
  }
 },
 "nbformat": 4,
 "nbformat_minor": 1
}
