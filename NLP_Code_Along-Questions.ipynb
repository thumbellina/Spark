{
 "cells": [
  {
   "cell_type": "markdown",
   "metadata": {},
   "source": [
    "# NLP Code Along questions\n",
    "\n",
    "For this code along we will build a spam filter!\n",
    "\n",
    "We'll use a classic dataset for this - UCI Repository SMS Spam Detection: https://archive.ics.uci.edu/ml/datasets/SMS+Spam+Collection"
   ]
  },
  {
   "cell_type": "code",
   "execution_count": 1,
   "metadata": {},
   "outputs": [],
   "source": [
    "import findspark\n",
    "findspark.init()\n",
    "from pyspark.sql import SparkSession\n",
    "spark = SparkSession.builder.appName('nlp').getOrCreate()"
   ]
  },
  {
   "cell_type": "markdown",
   "metadata": {},
   "source": [
    "#### load and  read the dataset,  have Spark infer the data types"
   ]
  },
  {
   "cell_type": "code",
   "execution_count": 17,
   "metadata": {},
   "outputs": [
    {
     "name": "stdout",
     "output_type": "stream",
     "text": [
      "+-----+--------------------+\n",
      "|class|                text|\n",
      "+-----+--------------------+\n",
      "|  ham|Go until jurong p...|\n",
      "|  ham|Ok lar... Joking ...|\n",
      "| spam|Free entry in 2 a...|\n",
      "|  ham|U dun say so earl...|\n",
      "|  ham|Nah I don't think...|\n",
      "| spam|FreeMsg Hey there...|\n",
      "|  ham|Even my brother i...|\n",
      "|  ham|As per your reque...|\n",
      "| spam|WINNER!! As a val...|\n",
      "| spam|Had your mobile 1...|\n",
      "|  ham|I'm gonna be home...|\n",
      "| spam|SIX chances to wi...|\n",
      "| spam|URGENT! You have ...|\n",
      "|  ham|I've been searchi...|\n",
      "|  ham|I HAVE A DATE ON ...|\n",
      "| spam|XXXMobileMovieClu...|\n",
      "|  ham|Oh k...i'm watchi...|\n",
      "|  ham|Eh u remember how...|\n",
      "|  ham|Fine if thats th...|\n",
      "| spam|England v Macedon...|\n",
      "+-----+--------------------+\n",
      "only showing top 20 rows\n",
      "\n"
     ]
    }
   ],
   "source": [
    "dataset = spark.read.csv(\"SMSSpamCollection\", sep = \"\\t\",  header = False,inferSchema=True)\n",
    "dataset = dataset.withColumnRenamed('_c0', 'class').withColumnRenamed('_c1', 'text')\n",
    "dataset.show()"
   ]
  },
  {
   "cell_type": "markdown",
   "metadata": {},
   "source": [
    "## Clean and Prepare the Data"
   ]
  },
  {
   "cell_type": "markdown",
   "metadata": {},
   "source": [
    "#### Create a new length feature"
   ]
  },
  {
   "cell_type": "code",
   "execution_count": 18,
   "metadata": {},
   "outputs": [],
   "source": [
    "from pyspark.sql.functions import length"
   ]
  },
  {
   "cell_type": "code",
   "execution_count": 19,
   "metadata": {},
   "outputs": [],
   "source": [
    "dataset = dataset.withColumn(\"length\",length(dataset['text']))"
   ]
  },
  {
   "cell_type": "code",
   "execution_count": 20,
   "metadata": {},
   "outputs": [
    {
     "name": "stdout",
     "output_type": "stream",
     "text": [
      "+-----+--------------------+------+\n",
      "|class|                text|length|\n",
      "+-----+--------------------+------+\n",
      "|  ham|Go until jurong p...|   111|\n",
      "|  ham|Ok lar... Joking ...|    29|\n",
      "| spam|Free entry in 2 a...|   155|\n",
      "|  ham|U dun say so earl...|    49|\n",
      "|  ham|Nah I don't think...|    61|\n",
      "| spam|FreeMsg Hey there...|   147|\n",
      "|  ham|Even my brother i...|    77|\n",
      "|  ham|As per your reque...|   160|\n",
      "| spam|WINNER!! As a val...|   157|\n",
      "| spam|Had your mobile 1...|   154|\n",
      "|  ham|I'm gonna be home...|   109|\n",
      "| spam|SIX chances to wi...|   136|\n",
      "| spam|URGENT! You have ...|   155|\n",
      "|  ham|I've been searchi...|   196|\n",
      "|  ham|I HAVE A DATE ON ...|    35|\n",
      "| spam|XXXMobileMovieClu...|   149|\n",
      "|  ham|Oh k...i'm watchi...|    26|\n",
      "|  ham|Eh u remember how...|    81|\n",
      "|  ham|Fine if thats th...|    56|\n",
      "| spam|England v Macedon...|   155|\n",
      "+-----+--------------------+------+\n",
      "only showing top 20 rows\n",
      "\n"
     ]
    }
   ],
   "source": [
    "dataset.show()"
   ]
  },
  {
   "cell_type": "markdown",
   "metadata": {},
   "source": [
    "#### print the groupy mean of class"
   ]
  },
  {
   "cell_type": "code",
   "execution_count": 21,
   "metadata": {},
   "outputs": [
    {
     "name": "stdout",
     "output_type": "stream",
     "text": [
      "+-----+-----------------+\n",
      "|class|      avg(length)|\n",
      "+-----+-----------------+\n",
      "|  ham|71.45431945307645|\n",
      "| spam|138.6706827309237|\n",
      "+-----+-----------------+\n",
      "\n"
     ]
    }
   ],
   "source": [
    "dataset.groupby(\"class\").mean().show()"
   ]
  },
  {
   "cell_type": "markdown",
   "metadata": {},
   "source": [
    "## Feature Transformations"
   ]
  },
  {
   "cell_type": "markdown",
   "metadata": {},
   "source": [
    "In this part you transform you raw text in to tf_idf model :"
   ]
  },
  {
   "cell_type": "markdown",
   "metadata": {},
   "source": [
    "- chain the transformer Tokenizer, StopWordsRemover, CountVectorizer and IDF for text to have a final column name 'tf_idf'\n",
    "- use the transformer StringIndexer for class column into output column 'label'"
   ]
  },
  {
   "cell_type": "markdown",
   "metadata": {},
   "source": [
    "- create feature with vector assembler 'tf_idf','length of as input columns into output column named 'features'"
   ]
  },
  {
   "cell_type": "markdown",
   "metadata": {},
   "source": [
    "### use pipeline for fit and transform"
   ]
  },
  {
   "cell_type": "code",
   "execution_count": 22,
   "metadata": {},
   "outputs": [],
   "source": [
    "from pyspark.ml.feature import CountVectorizer, Tokenizer, StopWordsRemover, IDF, StringIndexer\n",
    "from pyspark.ml.feature import VectorAssembler\n",
    "from pyspark.ml import Pipeline"
   ]
  },
  {
   "cell_type": "code",
   "execution_count": 24,
   "metadata": {},
   "outputs": [],
   "source": [
    "tokenizer = Tokenizer(inputCol = 'text', outputCol = 'words')\n",
    "stop_words = StopWordsRemover(inputCol = 'words', outputCol = 'stop_words')\n",
    "count_vec = CountVectorizer(inputCol = 'stop_words', outputCol = 'count_vec')\n",
    "tfidf = IDF(inputCol = 'count_vec', outputCol = 'tf_idf')\n",
    "class_numeric = StringIndexer(inputCol = 'class', outputCol = 'label')\n",
    "vec_assembler = VectorAssembler(inputCols = ['tf_idf', 'length'], outputCol = 'features')\n",
    "pipeline = Pipeline(stages=[class_numeric, tokenizer, stop_words, count_vec, tfidf, vec_assembler])\n",
    "\n",
    "train = pipeline.fit(dataset)\n",
    "clean_data = train.transform(dataset)\n"
   ]
  },
  {
   "cell_type": "code",
   "execution_count": 25,
   "metadata": {},
   "outputs": [
    {
     "name": "stdout",
     "output_type": "stream",
     "text": [
      "+-----+--------------------+------+-----+--------------------+--------------------+--------------------+--------------------+--------------------+\n",
      "|class|                text|length|label|               words|          stop_words|           count_vec|              tf_idf|            features|\n",
      "+-----+--------------------+------+-----+--------------------+--------------------+--------------------+--------------------+--------------------+\n",
      "|  ham|Go until jurong p...|   111|  0.0|[go, until, juron...|[go, jurong, poin...|(13423,[7,11,31,6...|(13423,[7,11,31,6...|(13424,[7,11,31,6...|\n",
      "|  ham|Ok lar... Joking ...|    29|  0.0|[ok, lar..., joki...|[ok, lar..., joki...|(13423,[0,24,297,...|(13423,[0,24,297,...|(13424,[0,24,297,...|\n",
      "| spam|Free entry in 2 a...|   155|  1.0|[free, entry, in,...|[free, entry, 2, ...|(13423,[2,13,19,3...|(13423,[2,13,19,3...|(13424,[2,13,19,3...|\n",
      "|  ham|U dun say so earl...|    49|  0.0|[u, dun, say, so,...|[u, dun, say, ear...|(13423,[0,70,80,1...|(13423,[0,70,80,1...|(13424,[0,70,80,1...|\n",
      "|  ham|Nah I don't think...|    61|  0.0|[nah, i, don't, t...|[nah, think, goes...|(13423,[36,134,31...|(13423,[36,134,31...|(13424,[36,134,31...|\n",
      "| spam|FreeMsg Hey there...|   147|  1.0|[freemsg, hey, th...|[freemsg, hey, da...|(13423,[10,60,139...|(13423,[10,60,139...|(13424,[10,60,139...|\n",
      "|  ham|Even my brother i...|    77|  0.0|[even, my, brothe...|[even, brother, l...|(13423,[10,53,103...|(13423,[10,53,103...|(13424,[10,53,103...|\n",
      "|  ham|As per your reque...|   160|  0.0|[as, per, your, r...|[per, request, 'm...|(13423,[125,184,4...|(13423,[125,184,4...|(13424,[125,184,4...|\n",
      "| spam|WINNER!! As a val...|   157|  1.0|[winner!!, as, a,...|[winner!!, valued...|(13423,[1,47,118,...|(13423,[1,47,118,...|(13424,[1,47,118,...|\n",
      "| spam|Had your mobile 1...|   154|  1.0|[had, your, mobil...|[mobile, 11, mont...|(13423,[0,1,13,27...|(13423,[0,1,13,27...|(13424,[0,1,13,27...|\n",
      "|  ham|I'm gonna be home...|   109|  0.0|[i'm, gonna, be, ...|[gonna, home, soo...|(13423,[18,43,120...|(13423,[18,43,120...|(13424,[18,43,120...|\n",
      "| spam|SIX chances to wi...|   136|  1.0|[six, chances, to...|[six, chances, wi...|(13423,[8,17,37,8...|(13423,[8,17,37,8...|(13424,[8,17,37,8...|\n",
      "| spam|URGENT! You have ...|   155|  1.0|[urgent!, you, ha...|[urgent!, won, 1,...|(13423,[13,30,47,...|(13423,[13,30,47,...|(13424,[13,30,47,...|\n",
      "|  ham|I've been searchi...|   196|  0.0|[i've, been, sear...|[searching, right...|(13423,[39,96,217...|(13423,[39,96,217...|(13424,[39,96,217...|\n",
      "|  ham|I HAVE A DATE ON ...|    35|  0.0|[i, have, a, date...|[date, sunday, wi...|(13423,[552,1697,...|(13423,[552,1697,...|(13424,[552,1697,...|\n",
      "| spam|XXXMobileMovieClu...|   149|  1.0|[xxxmobilemoviecl...|[xxxmobilemoviecl...|(13423,[30,109,11...|(13423,[30,109,11...|(13424,[30,109,11...|\n",
      "|  ham|Oh k...i'm watchi...|    26|  0.0|[oh, k...i'm, wat...|[oh, k...i'm, wat...|(13423,[82,214,47...|(13423,[82,214,47...|(13424,[82,214,47...|\n",
      "|  ham|Eh u remember how...|    81|  0.0|[eh, u, remember,...|[eh, u, remember,...|(13423,[0,2,49,13...|(13423,[0,2,49,13...|(13424,[0,2,49,13...|\n",
      "|  ham|Fine if thats th...|    56|  0.0|[fine, if, thats...|[fine, thats, wa...|(13423,[0,74,105,...|(13423,[0,74,105,...|(13424,[0,74,105,...|\n",
      "| spam|England v Macedon...|   155|  1.0|[england, v, mace...|[england, v, mace...|(13423,[4,30,33,5...|(13423,[4,30,33,5...|(13424,[4,30,33,5...|\n",
      "+-----+--------------------+------+-----+--------------------+--------------------+--------------------+--------------------+--------------------+\n",
      "only showing top 20 rows\n",
      "\n"
     ]
    }
   ],
   "source": [
    "clean_data.show()"
   ]
  },
  {
   "cell_type": "code",
   "execution_count": 27,
   "metadata": {},
   "outputs": [
    {
     "name": "stdout",
     "output_type": "stream",
     "text": [
      "+-----+--------------------+\n",
      "|label|            features|\n",
      "+-----+--------------------+\n",
      "|  0.0|(13424,[7,11,31,6...|\n",
      "|  0.0|(13424,[0,24,297,...|\n",
      "|  1.0|(13424,[2,13,19,3...|\n",
      "|  0.0|(13424,[0,70,80,1...|\n",
      "|  0.0|(13424,[36,134,31...|\n",
      "|  1.0|(13424,[10,60,139...|\n",
      "|  0.0|(13424,[10,53,103...|\n",
      "|  0.0|(13424,[125,184,4...|\n",
      "|  1.0|(13424,[1,47,118,...|\n",
      "|  1.0|(13424,[0,1,13,27...|\n",
      "|  0.0|(13424,[18,43,120...|\n",
      "|  1.0|(13424,[8,17,37,8...|\n",
      "|  1.0|(13424,[13,30,47,...|\n",
      "|  0.0|(13424,[39,96,217...|\n",
      "|  0.0|(13424,[552,1697,...|\n",
      "|  1.0|(13424,[30,109,11...|\n",
      "|  0.0|(13424,[82,214,47...|\n",
      "|  0.0|(13424,[0,2,49,13...|\n",
      "|  0.0|(13424,[0,74,105,...|\n",
      "|  1.0|(13424,[4,30,33,5...|\n",
      "+-----+--------------------+\n",
      "only showing top 20 rows\n",
      "\n"
     ]
    }
   ],
   "source": [
    "clean_data.select('label', 'features').show()"
   ]
  },
  {
   "cell_type": "markdown",
   "metadata": {},
   "source": [
    "Example: it may differ for you"
   ]
  },
  {
   "cell_type": "code",
   "execution_count": 106,
   "metadata": {},
   "outputs": [
    {
     "name": "stdout",
     "output_type": "stream",
     "text": [
      "+-----+--------------------+\n",
      "|label|            features|\n",
      "+-----+--------------------+\n",
      "|  0.0|(13461,[8,12,33,6...|\n",
      "|  0.0|(13461,[0,26,308,...|\n",
      "|  1.0|(13461,[2,14,20,3...|\n",
      "|  0.0|(13461,[0,73,84,1...|\n",
      "|  0.0|(13461,[36,39,140...|\n",
      "|  1.0|(13461,[11,57,62,...|\n",
      "|  0.0|(13461,[11,55,108...|\n",
      "|  0.0|(13461,[133,195,4...|\n",
      "|  1.0|(13461,[1,50,124,...|\n",
      "|  1.0|(13461,[0,1,14,29...|\n",
      "|  0.0|(13461,[5,19,36,4...|\n",
      "|  1.0|(13461,[9,18,40,9...|\n",
      "|  1.0|(13461,[14,32,50,...|\n",
      "|  0.0|(13461,[42,99,101...|\n",
      "|  0.0|(13461,[567,1744,...|\n",
      "|  1.0|(13461,[32,113,11...|\n",
      "|  0.0|(13461,[86,224,37...|\n",
      "|  0.0|(13461,[0,2,52,13...|\n",
      "|  0.0|(13461,[0,77,107,...|\n",
      "|  1.0|(13461,[4,32,35,6...|\n",
      "+-----+--------------------+\n",
      "only showing top 20 rows\n",
      "\n"
     ]
    }
   ],
   "source": [
    "clean_data.show()"
   ]
  },
  {
   "cell_type": "markdown",
   "metadata": {},
   "source": [
    "### Detect spam or Ham\n",
    "\n",
    "now use your tf-idf data to classify spam and ham\n",
    "\n",
    "feel free to use any classifier model\n",
    "\n",
    "result may differ for you"
   ]
  },
  {
   "cell_type": "code",
   "execution_count": 28,
   "metadata": {},
   "outputs": [],
   "source": [
    "from pyspark.ml.classification import RandomForestClassifier"
   ]
  },
  {
   "cell_type": "code",
   "execution_count": 30,
   "metadata": {},
   "outputs": [],
   "source": [
    "rf= RandomForestClassifier()"
   ]
  },
  {
   "cell_type": "code",
   "execution_count": 31,
   "metadata": {},
   "outputs": [],
   "source": [
    "train, test = clean_data.randomSplit([0.8, 0.2])"
   ]
  },
  {
   "cell_type": "code",
   "execution_count": 32,
   "metadata": {},
   "outputs": [
    {
     "name": "stdout",
     "output_type": "stream",
     "text": [
      "+-----+--------------------+------+-----+--------------------+--------------------+--------------------+--------------------+--------------------+--------------------+--------------------+----------+\n",
      "|class|                text|length|label|               words|          stop_words|           count_vec|              tf_idf|            features|       rawPrediction|         probability|prediction|\n",
      "+-----+--------------------+------+-----+--------------------+--------------------+--------------------+--------------------+--------------------+--------------------+--------------------+----------+\n",
      "|  ham|&lt;#&gt;  great ...|    85|  0.0|[&lt;#&gt;, , gre...|[&lt;#&gt;, , gre...|(13423,[3,6,32,61...|(13423,[3,6,32,61...|(13424,[3,6,32,61...|[17.7802802439555...|[0.88901401219777...|       0.0|\n",
      "|  ham|&lt;#&gt;  w jett...|    37|  0.0|[&lt;#&gt;, , w, ...|[&lt;#&gt;, , w, ...|(13423,[3,6,291,6...|(13423,[3,6,291,6...|(13424,[3,6,291,6...|[17.7802802439555...|[0.88901401219777...|       0.0|\n",
      "|  ham|&lt;#&gt; %of ppl...|   327|  0.0|[&lt;#&gt;, %of, ...|[&lt;#&gt;, %of, ...|(13423,[0,2,3,5,6...|(13423,[0,2,3,5,6...|(13424,[0,2,3,5,6...|[17.2480132308700...|[0.86240066154350...|       0.0|\n",
      "|  ham|&lt;#&gt; ISH MIN...|    45|  0.0|[&lt;#&gt;, ish, ...|[&lt;#&gt;, ish, ...|(13423,[6,242,278...|(13423,[6,242,278...|(13424,[6,242,278...|[17.7802802439555...|[0.88901401219777...|       0.0|\n",
      "|  ham|* Was really good...|    69|  0.0|[*, was, really, ...|[*, really, good,...|(13423,[15,32,45,...|(13423,[15,32,45,...|(13424,[15,32,45,...|[17.7802802439555...|[0.88901401219777...|       0.0|\n",
      "|  ham|* Will have two m...|    67|  0.0|[*, will, have, t...|[*, two, cartons,...|(13423,[0,195,264...|(13423,[0,195,264...|(13424,[0,195,264...|[17.7802802439555...|[0.88901401219777...|       0.0|\n",
      "|  ham|, im .. On the sn...|   146|  0.0|[,, im, .., on, t...|[,, im, .., snowb...|(13423,[5,67,75,2...|(13423,[5,67,75,2...|(13424,[5,67,75,2...|[17.7802802439555...|[0.88901401219777...|       0.0|\n",
      "|  ham|1 in cbe. 2 in ch...|    23|  0.0|[1, in, cbe., 2, ...|[1, cbe., 2, chen...|(13423,[2,100,542...|(13423,[2,100,542...|(13424,[2,100,542...|[17.7802802439555...|[0.88901401219777...|       0.0|\n",
      "|  ham|        26th OF JULY|    12|  0.0|    [26th, of, july]|        [26th, july]|(13423,[4980,4996...|(13423,[4980,4996...|(13424,[4980,4996...|[17.7802802439555...|[0.88901401219777...|       0.0|\n",
      "|  ham|4 oclock at mine....|    47|  0.0|[4, oclock, at, m...|[4, oclock, mine....|(13423,[8,2580,27...|(13423,[8,2580,27...|(13424,[8,2580,27...|[17.7802802439555...|[0.88901401219777...|       0.0|\n",
      "|  ham|5 nights...We nt ...|    51|  0.0|[5, nights...we, ...|[5, nights...we, ...|(13423,[242,759,9...|(13423,[242,759,9...|(13424,[242,759,9...|[17.7802802439555...|[0.88901401219777...|       0.0|\n",
      "|  ham|             :-) :-)|     7|  0.0|          [:-), :-)]|          [:-), :-)]| (13423,[381],[2.0])|(13423,[381],[11....|(13424,[381,13423...|[17.7802802439555...|[0.88901401219777...|       0.0|\n",
      "|  ham|:-) yeah! Lol. Lu...|    62|  0.0|[:-), yeah!, lol....|[:-), yeah!, lol....|(13423,[10,160,38...|(13423,[10,160,38...|(13424,[10,160,38...|[17.7802802439555...|[0.88901401219777...|       0.0|\n",
      "|  ham|A Boy loved a gal...|   446|  0.0|[a, boy, loved, a...|[boy, loved, gal....|(13423,[0,2,10,13...|(13423,[0,2,10,13...|(13424,[0,2,10,13...|[17.7802802439555...|[0.88901401219777...|       0.0|\n",
      "|  ham|A boy was late 2 ...|    54|  0.0|[a, boy, was, lat...|[boy, late, 2, ho...|(13423,[2,174,248...|(13423,[2,174,248...|(13424,[2,174,248...|[17.7802802439555...|[0.88901401219777...|       0.0|\n",
      "|  ham|A famous quote : ...|   169|  0.0|[a, famous, quote...|[famous, quote, :...|(13423,[280,324,7...|(13423,[280,324,7...|(13424,[280,324,7...|[17.7802802439555...|[0.88901401219777...|       0.0|\n",
      "|  ham|A few people are ...|    66|  0.0|[a, few, people, ...|[people, game,, m...|(13423,[169,2674,...|(13423,[169,2674,...|(13424,[169,2674,...|[17.7802802439555...|[0.88901401219777...|       0.0|\n",
      "|  ham|A gram usually ru...|   124|  0.0|[a, gram, usually...|[gram, usually, r...|(13423,[3,6,10,18...|(13423,[3,6,10,18...|(13424,[3,6,10,18...|[17.7802802439555...|[0.88901401219777...|       0.0|\n",
      "|  ham|AH POOR BABY!HOPE...|   114|  0.0|[ah, poor, baby!h...|[ah, poor, baby!h...|(13423,[0,2,7,60,...|(13423,[0,2,7,60,...|(13424,[0,2,7,60,...|[17.7802802439555...|[0.88901401219777...|       0.0|\n",
      "|  ham|About  &lt;#&gt; ...|    87|  0.0|[about, , &lt;#&g...|[, &lt;#&gt;, buc...|(13423,[1,3,6,84,...|(13423,[1,3,6,84,...|(13424,[1,3,6,84,...|[17.1830414421096...|[0.85915207210548...|       0.0|\n",
      "+-----+--------------------+------+-----+--------------------+--------------------+--------------------+--------------------+--------------------+--------------------+--------------------+----------+\n",
      "only showing top 20 rows\n",
      "\n"
     ]
    }
   ],
   "source": [
    "spam_model = rf.fit(train)\n",
    "test_results = spam_model.transform(test)\n",
    "test_results.show()"
   ]
  },
  {
   "cell_type": "code",
   "execution_count": 33,
   "metadata": {},
   "outputs": [
    {
     "name": "stdout",
     "output_type": "stream",
     "text": [
      "+-----+--------------------+--------------------+--------------------+----------+\n",
      "|label|            features|       rawPrediction|         probability|prediction|\n",
      "+-----+--------------------+--------------------+--------------------+----------+\n",
      "|  0.0|(13424,[3,6,32,61...|[17.7802802439555...|[0.88901401219777...|       0.0|\n",
      "|  0.0|(13424,[3,6,291,6...|[17.7802802439555...|[0.88901401219777...|       0.0|\n",
      "|  0.0|(13424,[0,2,3,5,6...|[17.2480132308700...|[0.86240066154350...|       0.0|\n",
      "|  0.0|(13424,[6,242,278...|[17.7802802439555...|[0.88901401219777...|       0.0|\n",
      "|  0.0|(13424,[15,32,45,...|[17.7802802439555...|[0.88901401219777...|       0.0|\n",
      "|  0.0|(13424,[0,195,264...|[17.7802802439555...|[0.88901401219777...|       0.0|\n",
      "|  0.0|(13424,[5,67,75,2...|[17.7802802439555...|[0.88901401219777...|       0.0|\n",
      "|  0.0|(13424,[2,100,542...|[17.7802802439555...|[0.88901401219777...|       0.0|\n",
      "|  0.0|(13424,[4980,4996...|[17.7802802439555...|[0.88901401219777...|       0.0|\n",
      "|  0.0|(13424,[8,2580,27...|[17.7802802439555...|[0.88901401219777...|       0.0|\n",
      "|  0.0|(13424,[242,759,9...|[17.7802802439555...|[0.88901401219777...|       0.0|\n",
      "|  0.0|(13424,[381,13423...|[17.7802802439555...|[0.88901401219777...|       0.0|\n",
      "|  0.0|(13424,[10,160,38...|[17.7802802439555...|[0.88901401219777...|       0.0|\n",
      "|  0.0|(13424,[0,2,10,13...|[17.7802802439555...|[0.88901401219777...|       0.0|\n",
      "|  0.0|(13424,[2,174,248...|[17.7802802439555...|[0.88901401219777...|       0.0|\n",
      "|  0.0|(13424,[280,324,7...|[17.7802802439555...|[0.88901401219777...|       0.0|\n",
      "|  0.0|(13424,[169,2674,...|[17.7802802439555...|[0.88901401219777...|       0.0|\n",
      "|  0.0|(13424,[3,6,10,18...|[17.7802802439555...|[0.88901401219777...|       0.0|\n",
      "|  0.0|(13424,[0,2,7,60,...|[17.7802802439555...|[0.88901401219777...|       0.0|\n",
      "|  0.0|(13424,[1,3,6,84,...|[17.1830414421096...|[0.85915207210548...|       0.0|\n",
      "+-----+--------------------+--------------------+--------------------+----------+\n",
      "only showing top 20 rows\n",
      "\n"
     ]
    }
   ],
   "source": [
    "test_results.select('label','features','rawPrediction','probability','prediction').show()"
   ]
  },
  {
   "cell_type": "code",
   "execution_count": 110,
   "metadata": {},
   "outputs": [
    {
     "name": "stdout",
     "output_type": "stream",
     "text": [
      "+-----+--------------------+--------------------+--------------------+----------+\n",
      "|label|            features|       rawPrediction|         probability|prediction|\n",
      "+-----+--------------------+--------------------+--------------------+----------+\n",
      "|  0.0|(13461,[0,1,2,14,...|[-612.34877984332...|[0.99999999999999...|       0.0|\n",
      "|  0.0|(13461,[0,1,5,15,...|[-742.97388469249...|[1.0,5.5494439698...|       0.0|\n",
      "|  0.0|(13461,[0,1,6,16,...|[-1004.8197043274...|[1.0,5.0315468936...|       0.0|\n",
      "|  0.0|(13461,[0,1,12,34...|[-879.22017540506...|[1.0,1.0023148863...|       0.0|\n",
      "|  0.0|(13461,[0,1,15,33...|[-216.47131414494...|[1.0,1.1962236837...|       0.0|\n",
      "|  0.0|(13461,[0,1,16,21...|[-673.71050817005...|[1.0,1.5549413147...|       0.0|\n",
      "|  0.0|(13461,[0,1,22,26...|[-382.58333036006...|[1.0,1.7564627587...|       0.0|\n",
      "|  0.0|(13461,[0,1,25,66...|[-1361.5572580867...|[1.0,2.1016772175...|       0.0|\n",
      "|  0.0|(13461,[0,1,33,46...|[-378.04433557629...|[1.0,6.5844301586...|       0.0|\n",
      "|  0.0|(13461,[0,1,156,1...|[-251.74061863695...|[0.88109389963478...|       0.0|\n",
      "|  0.0|(13461,[0,1,510,5...|[-325.61601503458...|[0.99999999996808...|       0.0|\n",
      "|  0.0|(13461,[0,1,896,1...|[-96.594570068189...|[0.99999996371517...|       0.0|\n",
      "|  0.0|(13461,[0,2,3,6,7...|[-2547.2759643071...|[1.0,4.6246337876...|       0.0|\n",
      "|  0.0|(13461,[0,2,4,6,8...|[-998.45874047729...|[1.0,1.0141354676...|       0.0|\n",
      "|  0.0|(13461,[0,2,4,9,1...|[-1316.5960403060...|[1.0,4.5097599797...|       0.0|\n",
      "|  0.0|(13461,[0,2,4,28,...|[-430.36443439941...|[1.0,1.3571829152...|       0.0|\n",
      "|  0.0|(13461,[0,2,5,9,7...|[-743.88098750283...|[1.0,1.2520543556...|       0.0|\n",
      "|  0.0|(13461,[0,2,5,15,...|[-1081.6827153914...|[1.0,2.5678822847...|       0.0|\n",
      "|  0.0|(13461,[0,2,5,25,...|[-833.43388596187...|[0.99999999865682...|       0.0|\n",
      "|  0.0|(13461,[0,2,5,25,...|[-492.43437000641...|[1.0,2.6689876137...|       0.0|\n",
      "+-----+--------------------+--------------------+--------------------+----------+\n",
      "only showing top 20 rows\n",
      "\n"
     ]
    }
   ],
   "source": [
    "test_results.show()"
   ]
  },
  {
   "cell_type": "markdown",
   "metadata": {},
   "source": [
    "### Calculate the accuracy of your model"
   ]
  },
  {
   "cell_type": "code",
   "execution_count": 41,
   "metadata": {},
   "outputs": [],
   "source": [
    "from pyspark.ml.evaluation import MulticlassClassificationEvaluator"
   ]
  },
  {
   "cell_type": "code",
   "execution_count": 42,
   "metadata": {},
   "outputs": [],
   "source": [
    "evaluator = MulticlassClassificationEvaluator()"
   ]
  },
  {
   "cell_type": "code",
   "execution_count": 44,
   "metadata": {},
   "outputs": [
    {
     "name": "stdout",
     "output_type": "stream",
     "text": [
      "Accuracy :0.8481449525452976\n"
     ]
    }
   ],
   "source": [
    "print(\"Accuracy :\" + str(evaluator.evaluate(test_results, {evaluator.metricName: \"accuracy\"})))"
   ]
  },
  {
   "cell_type": "code",
   "execution_count": null,
   "metadata": {},
   "outputs": [],
   "source": []
  }
 ],
 "metadata": {
  "anaconda-cloud": {},
  "kernelspec": {
   "display_name": "Python 3",
   "language": "python",
   "name": "python3"
  },
  "language_info": {
   "codemirror_mode": {
    "name": "ipython",
    "version": 3
   },
   "file_extension": ".py",
   "mimetype": "text/x-python",
   "name": "python",
   "nbconvert_exporter": "python",
   "pygments_lexer": "ipython3",
   "version": "3.7.7"
  }
 },
 "nbformat": 4,
 "nbformat_minor": 1
}
